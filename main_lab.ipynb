{
 "cells": [
  {
   "cell_type": "code",
   "execution_count": 2,
   "metadata": {},
   "outputs": [],
   "source": [
    "import json"
   ]
  },
  {
   "cell_type": "code",
   "execution_count": 3,
   "metadata": {},
   "outputs": [
    {
     "name": "stdout",
     "output_type": "stream",
     "text": [
      "rm: remove file\n",
      "cp: copy file\n",
      "ls: show files\n",
      "find: find certain files\n"
     ]
    }
   ],
   "source": [
    "data_source_file_path = \"data_source/lucas_dict.json\"\n",
    "\n",
    "lucas_dict = {\n",
    "    \"bash command\": {\n",
    "        \"basic info\": \"the note I took while coding with zsh/bash\",\n",
    "        \"command\" :  {\n",
    "            \"command name\": [\"rm\", \"cp\", \"ls\", \"find\"],\n",
    "            \"description\": [\"remove file\", \"copy file\", \"show files\", \"find certain files\"]\n",
    "        },\n",
    "    }\n",
    "}\n",
    "\n",
    "target_result = lucas_dict.get(\"bash command\").get(\"command\")\n",
    "\n",
    "for i, v in enumerate(target_result.get(\"command name\")):\n",
    "    print(v+\":\", target_result.get(\"description\")[i])"
   ]
  },
  {
   "cell_type": "code",
   "execution_count": 4,
   "metadata": {},
   "outputs": [],
   "source": [
    "with open(data_source_file_path, mode=\"w\", encoding=\"utf-8\") as file:\n",
    "    json.dump(lucas_dict, file)"
   ]
  },
  {
   "cell_type": "code",
   "execution_count": 6,
   "metadata": {},
   "outputs": [
    {
     "data": {
      "text/plain": [
       "{'bash command': {'basic info': 'the note I took while coding with zsh/bash',\n",
       "  'command': {'command name': ['rm', 'cp', 'ls', 'find'],\n",
       "   'description': ['remove file',\n",
       "    'copy file',\n",
       "    'show files',\n",
       "    'find certain files']}}}"
      ]
     },
     "execution_count": 6,
     "metadata": {},
     "output_type": "execute_result"
    }
   ],
   "source": [
    "with open(data_source_file_path, mode=\"r\", encoding=\"utf-8\") as file:\n",
    "    data = json.load(file)\n",
    "\n",
    "data\n"
   ]
  },
  {
   "cell_type": "code",
   "execution_count": null,
   "metadata": {},
   "outputs": [],
   "source": []
  },
  {
   "cell_type": "code",
   "execution_count": null,
   "metadata": {},
   "outputs": [],
   "source": []
  },
  {
   "cell_type": "code",
   "execution_count": null,
   "metadata": {},
   "outputs": [],
   "source": []
  }
 ],
 "metadata": {
  "kernelspec": {
   "display_name": "base",
   "language": "python",
   "name": "python3"
  },
  "language_info": {
   "codemirror_mode": {
    "name": "ipython",
    "version": 3
   },
   "file_extension": ".py",
   "mimetype": "text/x-python",
   "name": "python",
   "nbconvert_exporter": "python",
   "pygments_lexer": "ipython3",
   "version": "3.7.4"
  },
  "orig_nbformat": 4,
  "vscode": {
   "interpreter": {
    "hash": "38505b1823952a8d06edfb0c2c90cab2b0517193277b7732fb89705b7ec6b4d0"
   }
  }
 },
 "nbformat": 4,
 "nbformat_minor": 2
}
