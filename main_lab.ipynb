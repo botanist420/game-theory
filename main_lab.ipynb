{
 "cells": [
  {
   "cell_type": "code",
   "execution_count": 7,
   "metadata": {},
   "outputs": [],
   "source": [
    "import json"
   ]
  },
  {
   "cell_type": "code",
   "execution_count": 22,
   "metadata": {},
   "outputs": [],
   "source": [
    "data_source_file_path = \"data_source/lucas_dict.json\"\n",
    "\n",
    "lucas_dict = {\n",
    "    \"bash command\": {\n",
    "        \"basic info\": \"the note I took while coding with zsh/bash\",\n",
    "        \"command\" :  {\n",
    "            \"command name\": [\"rm\", \"cp\", \"ls\", \"find\"],\n",
    "            \"description\": [\"remove file\", \"copy file\", \"show files\", \"find certain files\"]\n",
    "        },\n",
    "    },\n",
    "    \"python new learnt method\": {\n",
    "        \"module name\": [\"os\", \"json\"],\n",
    "        \"module new insight\": [\"os.path.exists()\", \"json.dump(dict, file, indent=4)\"]\n",
    "    }\n",
    "}"
   ]
  },
  {
   "cell_type": "code",
   "execution_count": 23,
   "metadata": {},
   "outputs": [],
   "source": [
    "# Write the data and dump into file:\n",
    "with open(data_source_file_path, mode=\"w\", encoding=\"utf-8\") as file:\n",
    "    json.dump(lucas_dict, file, indent=4) ### indent=4 可以進階縮排"
   ]
  },
  {
   "cell_type": "code",
   "execution_count": 24,
   "metadata": {},
   "outputs": [
    {
     "data": {
      "text/plain": [
       "{'bash command': {'basic info': 'the note I took while coding with zsh/bash',\n",
       "  'command': {'command name': ['rm', 'cp', 'ls', 'find'],\n",
       "   'description': ['remove file',\n",
       "    'copy file',\n",
       "    'show files',\n",
       "    'find certain files']}},\n",
       " 'python new learnt method': {'module name': ['os', 'json'],\n",
       "  'module new insight': ['os.path.exists()',\n",
       "   'json.dump(dict, file, indent=4)']}}"
      ]
     },
     "execution_count": 24,
     "metadata": {},
     "output_type": "execute_result"
    }
   ],
   "source": [
    "# Read json file and load the file as python readable:\n",
    "with open(data_source_file_path, mode=\"r\", encoding=\"utf-8\") as file:\n",
    "    data = json.load(file)\n",
    "\n",
    "data\n"
   ]
  },
  {
   "cell_type": "code",
   "execution_count": 25,
   "metadata": {},
   "outputs": [
    {
     "data": {
      "text/plain": [
       "['bash command', 'python new learnt method']"
      ]
     },
     "execution_count": 25,
     "metadata": {},
     "output_type": "execute_result"
    }
   ],
   "source": [
    "# get the first level keys:\n",
    "[key for key in data.keys()]"
   ]
  },
  {
   "cell_type": "code",
   "execution_count": 28,
   "metadata": {},
   "outputs": [
    {
     "data": {
      "text/plain": [
       "{'module name': ['os', 'json'],\n",
       " 'module new insight': ['os.path.exists()', 'json.dump(dict, file, indent=4)']}"
      ]
     },
     "execution_count": 28,
     "metadata": {},
     "output_type": "execute_result"
    }
   ],
   "source": [
    "test = data.get(\"python new learnt method\")\n",
    "test"
   ]
  },
  {
   "cell_type": "code",
   "execution_count": 34,
   "metadata": {},
   "outputs": [
    {
     "name": "stdout",
     "output_type": "stream",
     "text": [
      "os: os.path.exists()\n",
      "json: json.dump(dict, file, indent=4)\n"
     ]
    }
   ],
   "source": [
    "result = [i for i in zip(test[\"module name\"], test[\"module new insight\"])]\n",
    "\n",
    "for i in result:\n",
    "    print(i[0]+\":\", i[1])"
   ]
  },
  {
   "cell_type": "code",
   "execution_count": null,
   "metadata": {},
   "outputs": [],
   "source": []
  },
  {
   "cell_type": "code",
   "execution_count": null,
   "metadata": {},
   "outputs": [],
   "source": []
  },
  {
   "cell_type": "code",
   "execution_count": null,
   "metadata": {},
   "outputs": [],
   "source": []
  }
 ],
 "metadata": {
  "kernelspec": {
   "display_name": "base",
   "language": "python",
   "name": "python3"
  },
  "language_info": {
   "codemirror_mode": {
    "name": "ipython",
    "version": 3
   },
   "file_extension": ".py",
   "mimetype": "text/x-python",
   "name": "python",
   "nbconvert_exporter": "python",
   "pygments_lexer": "ipython3",
   "version": "3.7.4"
  },
  "orig_nbformat": 4,
  "vscode": {
   "interpreter": {
    "hash": "38505b1823952a8d06edfb0c2c90cab2b0517193277b7732fb89705b7ec6b4d0"
   }
  }
 },
 "nbformat": 4,
 "nbformat_minor": 2
}
