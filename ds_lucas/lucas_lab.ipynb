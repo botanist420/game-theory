{
 "cells": [
  {
   "cell_type": "code",
   "execution_count": 6,
   "metadata": {},
   "outputs": [],
   "source": [
    "import pandas as pd\n",
    "import numpy as np\n",
    "import matplotlib.pyplot as plt\n",
    "import seaborn as sns\n",
    "\n",
    "import os"
   ]
  },
  {
   "cell_type": "code",
   "execution_count": 48,
   "metadata": {},
   "outputs": [
    {
     "name": "stdout",
     "output_type": "stream",
     "text": [
      "Attempting to search dir: '../data_source'\n",
      "\n",
      "Available data name under data_source:\n",
      "['lucas_dict.json', 'test.json', 'test222.py']\n"
     ]
    }
   ],
   "source": [
    "def check_data_source(dir_name: str=\"data_source\"):\n",
    "    \n",
    "    if os.path.exists(dir_name):\n",
    "        print(\"Available data name under data_source:\\n\")\n",
    "        print(os.listdir(dir_name))\n",
    "        return os.listdir(dir_name)\n",
    "    else:\n",
    "        dir_name = \"../\" + dir_name\n",
    "        print(f\"Attempting to search dir: '{dir_name}'\\n\")\n",
    "        assert os.path.exists(dir_name), f\"Still can't find the dir from: {dir_name}\"\n",
    "        print(\"Available data name under data_source:\")\n",
    "        print(os.listdir(dir_name))\n",
    "        return os.listdir(dir_name)\n",
    "        \n",
    "        \n",
    "\n",
    "dir_list = check_data_source()"
   ]
  },
  {
   "cell_type": "code",
   "execution_count": 52,
   "metadata": {},
   "outputs": [
    {
     "data": {
      "text/plain": [
       "['lucas_dict.json', 'test.json']"
      ]
     },
     "execution_count": 52,
     "metadata": {},
     "output_type": "execute_result"
    }
   ],
   "source": [
    "suffix_list = [\".json\", \".py\"]\n",
    "\n",
    "str_length = len(suffix_list[0])\n",
    "\n",
    "[string for string in dir_list if string[-str_length:] == suffix_list[0]]"
   ]
  },
  {
   "cell_type": "code",
   "execution_count": null,
   "metadata": {},
   "outputs": [],
   "source": []
  },
  {
   "cell_type": "code",
   "execution_count": null,
   "metadata": {},
   "outputs": [],
   "source": []
  },
  {
   "cell_type": "code",
   "execution_count": null,
   "metadata": {},
   "outputs": [],
   "source": []
  },
  {
   "cell_type": "code",
   "execution_count": null,
   "metadata": {},
   "outputs": [],
   "source": []
  },
  {
   "cell_type": "code",
   "execution_count": null,
   "metadata": {},
   "outputs": [],
   "source": []
  }
 ],
 "metadata": {
  "kernelspec": {
   "display_name": "base",
   "language": "python",
   "name": "python3"
  },
  "language_info": {
   "codemirror_mode": {
    "name": "ipython",
    "version": 3
   },
   "file_extension": ".py",
   "mimetype": "text/x-python",
   "name": "python",
   "nbconvert_exporter": "python",
   "pygments_lexer": "ipython3",
   "version": "3.7.4"
  },
  "orig_nbformat": 4,
  "vscode": {
   "interpreter": {
    "hash": "38505b1823952a8d06edfb0c2c90cab2b0517193277b7732fb89705b7ec6b4d0"
   }
  }
 },
 "nbformat": 4,
 "nbformat_minor": 2
}
